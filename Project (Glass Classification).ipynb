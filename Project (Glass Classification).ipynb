{
 "cells": [
  {
   "cell_type": "markdown",
   "metadata": {},
   "source": [
    "# Project - Glass Classification\n",
    "\n",
    "### Using K - Nearest Neighbor Algorithm\n",
    "### Computer Science Engeneering\n",
    "### June 7 2019 \n",
    "### Team P. Sudarshan Kumar"
   ]
  },
  {
   "cell_type": "markdown",
   "metadata": {},
   "source": [
    "## Mission 1: Introduction to the Data Set\n",
    "\n",
    "### Instructions\n",
    "\n",
    "        ● Read glass.data into a dataframe.Read in the file using pandas.read_csv() \n",
    "        \n",
    "        ● Determine which columns are numeric and can be used as features and which column is\n",
    "        the target column and which columns can be converted into numeric.\n",
    "      "
   ]
  },
  {
   "cell_type": "code",
   "execution_count": 8,
   "metadata": {
    "scrolled": true
   },
   "outputs": [
    {
     "data": {
      "text/html": [
       "<div>\n",
       "<style scoped>\n",
       "    .dataframe tbody tr th:only-of-type {\n",
       "        vertical-align: middle;\n",
       "    }\n",
       "\n",
       "    .dataframe tbody tr th {\n",
       "        vertical-align: top;\n",
       "    }\n",
       "\n",
       "    .dataframe thead th {\n",
       "        text-align: right;\n",
       "    }\n",
       "</style>\n",
       "<table border=\"1\" class=\"dataframe\">\n",
       "  <thead>\n",
       "    <tr style=\"text-align: right;\">\n",
       "      <th></th>\n",
       "      <th>RI</th>\n",
       "      <th>Na</th>\n",
       "      <th>Mg</th>\n",
       "      <th>Al</th>\n",
       "      <th>Si</th>\n",
       "      <th>K</th>\n",
       "      <th>Ca</th>\n",
       "      <th>Ba</th>\n",
       "      <th>Fe</th>\n",
       "      <th>Type</th>\n",
       "    </tr>\n",
       "  </thead>\n",
       "  <tbody>\n",
       "    <tr>\n",
       "      <th>150</th>\n",
       "      <td>1.51665</td>\n",
       "      <td>13.14</td>\n",
       "      <td>3.45</td>\n",
       "      <td>1.76</td>\n",
       "      <td>72.48</td>\n",
       "      <td>0.60</td>\n",
       "      <td>8.38</td>\n",
       "      <td>0.00</td>\n",
       "      <td>0.17</td>\n",
       "      <td>3</td>\n",
       "    </tr>\n",
       "    <tr>\n",
       "      <th>123</th>\n",
       "      <td>1.51707</td>\n",
       "      <td>13.48</td>\n",
       "      <td>3.48</td>\n",
       "      <td>1.71</td>\n",
       "      <td>72.52</td>\n",
       "      <td>0.62</td>\n",
       "      <td>7.99</td>\n",
       "      <td>0.00</td>\n",
       "      <td>0.00</td>\n",
       "      <td>2</td>\n",
       "    </tr>\n",
       "    <tr>\n",
       "      <th>205</th>\n",
       "      <td>1.51732</td>\n",
       "      <td>14.95</td>\n",
       "      <td>0.00</td>\n",
       "      <td>1.80</td>\n",
       "      <td>72.99</td>\n",
       "      <td>0.00</td>\n",
       "      <td>8.61</td>\n",
       "      <td>1.55</td>\n",
       "      <td>0.00</td>\n",
       "      <td>7</td>\n",
       "    </tr>\n",
       "    <tr>\n",
       "      <th>69</th>\n",
       "      <td>1.52300</td>\n",
       "      <td>13.31</td>\n",
       "      <td>3.58</td>\n",
       "      <td>0.82</td>\n",
       "      <td>71.99</td>\n",
       "      <td>0.12</td>\n",
       "      <td>10.17</td>\n",
       "      <td>0.00</td>\n",
       "      <td>0.03</td>\n",
       "      <td>1</td>\n",
       "    </tr>\n",
       "    <tr>\n",
       "      <th>99</th>\n",
       "      <td>1.51811</td>\n",
       "      <td>12.96</td>\n",
       "      <td>2.96</td>\n",
       "      <td>1.43</td>\n",
       "      <td>72.92</td>\n",
       "      <td>0.60</td>\n",
       "      <td>8.79</td>\n",
       "      <td>0.14</td>\n",
       "      <td>0.00</td>\n",
       "      <td>2</td>\n",
       "    </tr>\n",
       "    <tr>\n",
       "      <th>37</th>\n",
       "      <td>1.51797</td>\n",
       "      <td>12.74</td>\n",
       "      <td>3.48</td>\n",
       "      <td>1.35</td>\n",
       "      <td>72.96</td>\n",
       "      <td>0.64</td>\n",
       "      <td>8.68</td>\n",
       "      <td>0.00</td>\n",
       "      <td>0.00</td>\n",
       "      <td>1</td>\n",
       "    </tr>\n",
       "    <tr>\n",
       "      <th>83</th>\n",
       "      <td>1.51594</td>\n",
       "      <td>13.09</td>\n",
       "      <td>3.52</td>\n",
       "      <td>1.55</td>\n",
       "      <td>72.87</td>\n",
       "      <td>0.68</td>\n",
       "      <td>8.05</td>\n",
       "      <td>0.00</td>\n",
       "      <td>0.09</td>\n",
       "      <td>2</td>\n",
       "    </tr>\n",
       "  </tbody>\n",
       "</table>\n",
       "</div>"
      ],
      "text/plain": [
       "          RI     Na    Mg    Al     Si     K     Ca    Ba    Fe  Type\n",
       "150  1.51665  13.14  3.45  1.76  72.48  0.60   8.38  0.00  0.17     3\n",
       "123  1.51707  13.48  3.48  1.71  72.52  0.62   7.99  0.00  0.00     2\n",
       "205  1.51732  14.95  0.00  1.80  72.99  0.00   8.61  1.55  0.00     7\n",
       "69   1.52300  13.31  3.58  0.82  71.99  0.12  10.17  0.00  0.03     1\n",
       "99   1.51811  12.96  2.96  1.43  72.92  0.60   8.79  0.14  0.00     2\n",
       "37   1.51797  12.74  3.48  1.35  72.96  0.64   8.68  0.00  0.00     1\n",
       "83   1.51594  13.09  3.52  1.55  72.87  0.68   8.05  0.00  0.09     2"
      ]
     },
     "execution_count": 8,
     "metadata": {},
     "output_type": "execute_result"
    }
   ],
   "source": [
    "import pandas as pd\n",
    "from sklearn.preprocessing import LabelEncoder\n",
    "from sklearn.model_selection import train_test_split\n",
    "from sklearn.neighbors import KNeighborsRegressor\n",
    "from sklearn.metrics import mean_squared_error\n",
    "import numpy as np\n",
    "import matplotlib.pyplot as plt\n",
    "import operator\n",
    "def read(filename):\n",
    "    df = pd.read_csv(filename)\n",
    "    return df\n",
    "df = read('Data Files/glass.csv')\n",
    "rand = np.random.permutation(df.index)\n",
    "df = df.loc[rand]\n",
    "df.head(7)"
   ]
  },
  {
   "cell_type": "markdown",
   "metadata": {},
   "source": [
    "## Mission 2: Data Cleaning\n",
    "\n",
    "### Instructions\n",
    "\n",
    "        ● Use the DataFrame.replace() method to replace any and all of the non-null values with the\n",
    "        numpy.nan missing value.\n",
    "        \n",
    "        ● Determine which columns need to be converted to numeric types. You can use either the\n",
    "        DataFrame.astype() or the Series.astype() methods to convert column types.\n",
    "        \n",
    "        ● Return the number of rows that have a missing value for the normalized-losses column.\n",
    "        This can be determined using Dataframe.info(). Determine how you should handle this column. \n",
    "        You could:\n",
    "        \n",
    "            ○ Replace the missing values using the average values from that column.\n",
    "\n",
    "            ○ Drop the rows entirely (especially if other columns in those rows have missing\n",
    "            values).\n",
    "\n",
    "            ○ Drop the column entirely.\n",
    "\n",
    "        ● Explore the missing value counts for the other numeric columns and handle any\n",
    "        missing values.\n",
    "        \n",
    "        ● Of the columns we decided to keep, normalize the numeric ones so all values range\n",
    "        from 0 to 1."
   ]
  },
  {
   "cell_type": "code",
   "execution_count": 3,
   "metadata": {
    "scrolled": true
   },
   "outputs": [
    {
     "name": "stdout",
     "output_type": "stream",
     "text": [
      "<class 'pandas.core.frame.DataFrame'>\n",
      "Int64Index: 214 entries, 179 to 38\n",
      "Data columns (total 10 columns):\n",
      "RI      214 non-null float64\n",
      "Na      214 non-null float64\n",
      "Mg      214 non-null float64\n",
      "Al      214 non-null float64\n",
      "Si      214 non-null float64\n",
      "K       214 non-null float64\n",
      "Ca      214 non-null float64\n",
      "Ba      214 non-null float64\n",
      "Fe      214 non-null float64\n",
      "Type    214 non-null int64\n",
      "dtypes: float64(9), int64(1)\n",
      "memory usage: 18.4 KB\n"
     ]
    }
   ],
   "source": [
    "df.info()"
   ]
  },
  {
   "cell_type": "code",
   "execution_count": 43,
   "metadata": {
    "scrolled": true
   },
   "outputs": [
    {
     "data": {
      "text/html": [
       "<div>\n",
       "<style scoped>\n",
       "    .dataframe tbody tr th:only-of-type {\n",
       "        vertical-align: middle;\n",
       "    }\n",
       "\n",
       "    .dataframe tbody tr th {\n",
       "        vertical-align: top;\n",
       "    }\n",
       "\n",
       "    .dataframe thead th {\n",
       "        text-align: right;\n",
       "    }\n",
       "</style>\n",
       "<table border=\"1\" class=\"dataframe\">\n",
       "  <thead>\n",
       "    <tr style=\"text-align: right;\">\n",
       "      <th></th>\n",
       "      <th>RI</th>\n",
       "      <th>Na</th>\n",
       "      <th>Mg</th>\n",
       "      <th>Al</th>\n",
       "      <th>Si</th>\n",
       "      <th>K</th>\n",
       "      <th>Ca</th>\n",
       "      <th>Ba</th>\n",
       "      <th>Fe</th>\n",
       "      <th>Type</th>\n",
       "    </tr>\n",
       "  </thead>\n",
       "  <tbody>\n",
       "    <tr>\n",
       "      <th>150</th>\n",
       "      <td>-0.564866</td>\n",
       "      <td>-0.328006</td>\n",
       "      <td>0.530687</td>\n",
       "      <td>0.631109</td>\n",
       "      <td>-0.220690</td>\n",
       "      <td>0.157843</td>\n",
       "      <td>-0.405411</td>\n",
       "      <td>-0.352051</td>\n",
       "      <td>1.159608</td>\n",
       "      <td>0.104398</td>\n",
       "    </tr>\n",
       "    <tr>\n",
       "      <th>123</th>\n",
       "      <td>-0.426565</td>\n",
       "      <td>0.088353</td>\n",
       "      <td>0.551486</td>\n",
       "      <td>0.530962</td>\n",
       "      <td>-0.169047</td>\n",
       "      <td>0.188509</td>\n",
       "      <td>-0.679451</td>\n",
       "      <td>-0.352051</td>\n",
       "      <td>-0.585079</td>\n",
       "      <td>-0.370946</td>\n",
       "    </tr>\n",
       "    <tr>\n",
       "      <th>205</th>\n",
       "      <td>-0.344243</td>\n",
       "      <td>1.888492</td>\n",
       "      <td>-1.861147</td>\n",
       "      <td>0.711226</td>\n",
       "      <td>0.437760</td>\n",
       "      <td>-0.762132</td>\n",
       "      <td>-0.243798</td>\n",
       "      <td>2.765286</td>\n",
       "      <td>-0.585079</td>\n",
       "      <td>2.005775</td>\n",
       "    </tr>\n",
       "    <tr>\n",
       "      <th>69</th>\n",
       "      <td>1.526107</td>\n",
       "      <td>-0.119826</td>\n",
       "      <td>0.620814</td>\n",
       "      <td>-1.251641</td>\n",
       "      <td>-0.853319</td>\n",
       "      <td>-0.578137</td>\n",
       "      <td>0.852359</td>\n",
       "      <td>-0.352051</td>\n",
       "      <td>-0.277193</td>\n",
       "      <td>-0.846290</td>\n",
       "    </tr>\n",
       "    <tr>\n",
       "      <th>99</th>\n",
       "      <td>-0.084107</td>\n",
       "      <td>-0.548431</td>\n",
       "      <td>0.190977</td>\n",
       "      <td>-0.029857</td>\n",
       "      <td>0.347385</td>\n",
       "      <td>0.157843</td>\n",
       "      <td>-0.117319</td>\n",
       "      <td>-0.070485</td>\n",
       "      <td>-0.585079</td>\n",
       "      <td>-0.370946</td>\n",
       "    </tr>\n",
       "  </tbody>\n",
       "</table>\n",
       "</div>"
      ],
      "text/plain": [
       "           RI        Na        Mg        Al        Si         K        Ca  \\\n",
       "150 -0.564866 -0.328006  0.530687  0.631109 -0.220690  0.157843 -0.405411   \n",
       "123 -0.426565  0.088353  0.551486  0.530962 -0.169047  0.188509 -0.679451   \n",
       "205 -0.344243  1.888492 -1.861147  0.711226  0.437760 -0.762132 -0.243798   \n",
       "69   1.526107 -0.119826  0.620814 -1.251641 -0.853319 -0.578137  0.852359   \n",
       "99  -0.084107 -0.548431  0.190977 -0.029857  0.347385  0.157843 -0.117319   \n",
       "\n",
       "           Ba        Fe      Type  \n",
       "150 -0.352051  1.159608  0.104398  \n",
       "123 -0.352051 -0.585079 -0.370946  \n",
       "205  2.765286 -0.585079  2.005775  \n",
       "69  -0.352051 -0.277193 -0.846290  \n",
       "99  -0.070485 -0.585079 -0.370946  "
      ]
     },
     "execution_count": 43,
     "metadata": {},
     "output_type": "execute_result"
    }
   ],
   "source": [
    "normalized_listings = (df - df.mean()) / (df.std())\n",
    "df_norm = normalized_listings\n",
    "columns = df_norm.columns\n",
    "columns = columns.to_list()\n",
    "columns.pop()\n",
    "df_norm.head()"
   ]
  },
  {
   "cell_type": "markdown",
   "metadata": {},
   "source": [
    "## Mission 3: Univariate Model\n",
    "\n",
    "### Instructions\n",
    "        ● Create a function, named knn_train_test() that consists of the training and simple\n",
    "        validation process. This function should have 3 parameters -- training column name,\n",
    "        target column name, and the dataframe object.\n",
    "\n",
    "            ○ This function should split the data set into a training and test set.\n",
    "\n",
    "            ○ Then, it should instantiate the KNeighborsRegressor class, fit the model on the\n",
    "            training set, and make predictions on the test set.\n",
    "\n",
    "            ○ Finally, it should calculate the RMSE and return that value.\n",
    "\n",
    "        ● Use this function to train and test univariate models(model having only one column for prediction) \n",
    "        using the different numeric columns in the data set. Which column performed the best using the default\n",
    "        k value?\n",
    "        \n",
    "        ● Modify the knn_train_test() function to accept a parameter for the k value.\n",
    "        \n",
    "            ○ Update the function logic to use this parameter.\n",
    "\n",
    "            ○ For each numeric column, create, train, and test a univariate model using the\n",
    "            following k values (1, 3, 5, 7, and 9) and print the rmse values for each model."
   ]
  },
  {
   "cell_type": "code",
   "execution_count": 53,
   "metadata": {
    "scrolled": true
   },
   "outputs": [
    {
     "data": {
      "text/plain": [
       "{'Mg': 0.6367516757498686,\n",
       " 'K': 0.7803298680277897,\n",
       " 'Ba': 0.7865007005712804,\n",
       " 'Al': 0.7983045070995736,\n",
       " 'Na': 0.8373692405859716,\n",
       " 'RI': 0.9278632133238232,\n",
       " 'Ca': 1.0183652124861269,\n",
       " 'Si': 1.1147338662653834,\n",
       " 'Fe': 1.1422991059429923}"
      ]
     },
     "execution_count": 53,
     "metadata": {},
     "output_type": "execute_result"
    }
   ],
   "source": [
    "rmse_values = []\n",
    "def knn_train_test(training_col,target_col,dataframe):\n",
    "    train_df, test_df = train_test_split(dataframe, test_size= 0.2, random_state = 0)\n",
    "    knn = KNeighborsRegressor(algorithm='brute')\n",
    "    train_features = train_df[[training_col]]\n",
    "    train_target = train_df[[target_col]]\n",
    "    knn.fit(train_features, train_target)\n",
    "    predictions = knn.predict(test_df[[training_col]])\n",
    "    rmse_value = np.sqrt(mean_squared_error(test_df[[target_col]], predictions))\n",
    "    return rmse_value\n",
    "for col in columns:\n",
    "    rmse_values.append(knn_train_test(col,'Type',df_norm)) \n",
    "       \n",
    "dictionary = dict(zip(columns, rmse_values))    \n",
    "tups = sorted(dictionary.items(), key= operator.itemgetter(1))    \n",
    "dictionary = dict(tups)\n",
    "best_features = list(dictionary.keys())\n",
    "dictionary"
   ]
  },
  {
   "cell_type": "code",
   "execution_count": 75,
   "metadata": {},
   "outputs": [],
   "source": [
    "def knn_train_test(training_col,target_col,dataframe,k):\n",
    "    train_df, test_df = train_test_split(dataframe, test_size= 0.2, random_state = 0)\n",
    "    knn = KNeighborsRegressor(n_neighbors = k,algorithm='brute')\n",
    "    train_features = train_df[[training_col]]\n",
    "    train_target = train_df[[target_col]]\n",
    "    knn.fit(train_features, train_target)\n",
    "    predictions = knn.predict(test_df[[training_col]])\n",
    "    rmse_value = np.sqrt(mean_squared_error(test_df[target_col], predictions))\n",
    "    return rmse_value\n"
   ]
  },
  {
   "cell_type": "code",
   "execution_count": 76,
   "metadata": {
    "scrolled": false
   },
   "outputs": [
    {
     "name": "stdout",
     "output_type": "stream",
     "text": [
      "For 1  as k value: \n",
      "\n",
      "1.0070537282009477\n",
      "0.8758917081092925\n",
      "0.9725461963188082\n",
      "1.092161632325086\n",
      "1.1346372290386095\n",
      "0.9616794173026916\n",
      "1.2471533069273262\n",
      "1.4333833841143229\n",
      "1.2020992716283645\n",
      "\n",
      "\n",
      "For 3  as k value: \n",
      "\n",
      "1.056566110064784\n",
      "0.8028552822207828\n",
      "0.7648681788233993\n",
      "0.8587255951280476\n",
      "1.2096041431234006\n",
      "0.8422497123660158\n",
      "1.0038599502252887\n",
      "0.7451487733131077\n",
      "1.027145123565813\n",
      "\n",
      "\n",
      "For 5  as k value: \n",
      "\n",
      "0.9278632133238232\n",
      "0.8373692405859716\n",
      "0.6367516757498686\n",
      "0.7983045070995736\n",
      "1.1147338662653834\n",
      "0.7803298680277897\n",
      "1.0183652124861269\n",
      "0.7865007005712804\n",
      "1.1422991059429923\n",
      "\n",
      "\n",
      "For 7  as k value: \n",
      "\n",
      "0.8989128224112746\n",
      "0.7274774328588396\n",
      "0.67024121030722\n",
      "0.8133609769625255\n",
      "1.0726938928299268\n",
      "0.7507643212365365\n",
      "0.9540664686441016\n",
      "0.7583677315674198\n",
      "0.9161648258837556\n",
      "\n",
      "\n",
      "For 9  as k value: \n",
      "\n",
      "0.8806559382362935\n",
      "0.7306870245367056\n",
      "0.7048377540609446\n",
      "0.8206764854619149\n",
      "1.0289435636240523\n",
      "0.7764427627339476\n",
      "0.9069304397341443\n",
      "0.7642317961698936\n",
      "0.8389311730826401\n",
      "\n",
      "\n"
     ]
    }
   ],
   "source": [
    "k_list  = [1,3,5,7,9]\n",
    "for i in k_list:\n",
    "    print('For',i,' as k value: \\n')\n",
    "    for col in columns:\n",
    "        print(knn_train_test(col,'Type',df_norm,i))\n",
    "    print('\\n')"
   ]
  },
  {
   "cell_type": "markdown",
   "metadata": {},
   "source": [
    "## Mission 4: Multivariate Model\n",
    "\n",
    "### Instructions\n",
    "    ● Modify the knn_train_test() function to accept a list of column names (instead of just\n",
    "    one column name as a string). Modify the rest of the function logic to use this parameter:\n",
    "    \n",
    "        ○ Instead of using just a single column for train and test, use all of the columns of\n",
    "        the dataframe except for the target column.\n",
    "\n",
    "        ○ Use the default k value from scikit-learn for this step(default value is 5).\n",
    "\n",
    "    ● Use the best 2 features from the previous step to train and test a multivariate k-nearest\n",
    "    neighbors model using the default k value.\n",
    "    \n",
    "    ● Use the best 3 features from the previous step to train and test a multivariate k-nearest\n",
    "    neighbors model using the default k value.\n",
    "    \n",
    "    ● Use the best 4 features from the previous step to train and test a multivariate k-nearest\n",
    "    neighbors model using the default k value.\n",
    "    \n",
    "    ● Use the best 5 features from the previous step to train and test a multivariate k-nearest\n",
    "    neighbors model using the default k value.\n",
    "    \n",
    "    ● Display all of the RMSE values from the above steps."
   ]
  },
  {
   "cell_type": "code",
   "execution_count": 78,
   "metadata": {
    "scrolled": true
   },
   "outputs": [
    {
     "name": "stdout",
     "output_type": "stream",
     "text": [
      "All Features:  0.48670514897600603\n",
      "Best 2 Features:  0.5650447832668334\n",
      "Best 3 Features:  0.5558564508620003\n",
      "Best 4 Features:  0.5432347415620109\n",
      "Best 5 Features:  0.4858406631266415\n"
     ]
    }
   ],
   "source": [
    "def knn_train_test(training_col,target_col,dataframe):\n",
    "    train_df, test_df = train_test_split(dataframe, test_size= 0.2, random_state = 0)\n",
    "    knn = KNeighborsRegressor(algorithm='brute')\n",
    "    train_features = train_df[training_col]\n",
    "    train_target = train_df[[target_col]]\n",
    "    knn.fit(train_features, train_target)\n",
    "    predictions = knn.predict(test_df[training_col])\n",
    "    rmse_value = np.sqrt(mean_squared_error(test_df[target_col], predictions))\n",
    "    return rmse_value\n",
    "\n",
    "print('All Features: ',knn_train_test(columns,'Type',df_norm))\n",
    "print('Best 2 Features: ',knn_train_test(best_features[:2],'Type',df_norm))\n",
    "print('Best 3 Features: ',knn_train_test(best_features[:3],'Type',df_norm))\n",
    "print('Best 4 Features: ',knn_train_test(best_features[:4],'Type',df_norm))\n",
    "print('Best 5 Features: ',knn_train_test(best_features[:5],'Type',df_norm))"
   ]
  },
  {
   "cell_type": "markdown",
   "metadata": {},
   "source": [
    "## Mission 5: Hyperparameter Tuning\n",
    "\n",
    "### Instructions\n",
    "    ● For the best model from the last step, vary the hyperparameter value from 1 to 25 and plot the\n",
    "    resulting RMSE values.\n",
    "    \n",
    "    ● Observe which k value is optimal for the model(least root mean squared error value for k is the optimal value)."
   ]
  },
  {
   "cell_type": "code",
   "execution_count": 80,
   "metadata": {},
   "outputs": [],
   "source": [
    "rmse_values = []\n",
    "def knn_train_test(training_col,target_col,dataframe,i):\n",
    "    for i in range (1,i+1):\n",
    "        train_df, test_df = train_test_split(dataframe, test_size= 0.2, random_state = 0)\n",
    "        knn = KNeighborsRegressor(n_neighbors = i,algorithm='brute')\n",
    "        train_features = train_df[training_col]\n",
    "        train_target = train_df[[target_col]]\n",
    "        knn.fit(train_features, train_target)\n",
    "        predictions = knn.predict(test_df[training_col])\n",
    "        rmse_values.append(np.sqrt(mean_squared_error(test_df[target_col], predictions))) \n",
    "    return rmse_values"
   ]
  },
  {
   "cell_type": "code",
   "execution_count": 81,
   "metadata": {
    "scrolled": false
   },
   "outputs": [
    {
     "data": {
      "text/plain": [
       "Text(0, 0.5, 'rmse_values')"
      ]
     },
     "execution_count": 81,
     "metadata": {},
     "output_type": "execute_result"
    },
    {
     "data": {
      "image/png": "[encoded data removed]",
      "text/plain": [
       "<Figure size 432x288 with 1 Axes>"
      ]
     },
     "metadata": {
      "needs_background": "light"
     },
     "output_type": "display_data"
    }
   ],
   "source": [
    "li = knn_train_test(best_features[:5],'Type',df_norm,25)\n",
    "plt.plot(li, '-ok')\n",
    "plt.xlabel('hyperparameter value')\n",
    "plt.ylabel('rmse_values')"
   ]
  },
  {
   "cell_type": "markdown",
   "metadata": {},
   "source": [
    "## Mission 6: K-fold cross validation\n",
    "\n",
    "### Instructions\n",
    "\n",
    "    ● Modify the knn_train_test() function to use k-fold cross validation instead of\n",
    "    test/train validation."
   ]
  },
  {
   "cell_type": "code",
   "execution_count": 83,
   "metadata": {},
   "outputs": [
    {
     "name": "stdout",
     "output_type": "stream",
     "text": [
      "rmses:  [0.4648368399259295, 0.5253350115282207, 0.8194819911515256, 0.5516813006225434, 0.44470429203961326] \n",
      " average rmse:  0.5612078870535664\n"
     ]
    }
   ],
   "source": [
    "num_folds = 5\n",
    "chunks = np.array_split(df_norm, num_folds)\n",
    "for i in range(0,len(chunks)):\n",
    "    chunks[i]['Fold'] = i\n",
    "result = pd.concat(chunks)\n",
    "def train_and_validate(result,folds):\n",
    "    rmses = []\n",
    "    for i in range (0,folds):\n",
    "        model = KNeighborsRegressor()\n",
    "        train_iteration_one = result[result[\"Fold\"] != i]\n",
    "        test_iteration_one = result[result[\"Fold\"] == i].copy()\n",
    "        model.fit(train_iteration_one[best_features[:4]], train_iteration_one[\"Type\"])\n",
    "        test_iteration_one[\"predicted_Type\"] = model.predict(test_iteration_one[best_features[:4]])\n",
    "        iteration_one_mse = mean_squared_error(test_iteration_one[\"Type\"],test_iteration_one[\"predicted_Type\"])\n",
    "        rmses.append(iteration_one_mse ** (1/2))\n",
    "    return rmses\n",
    "rmses = train_and_validate(result,num_folds)\n",
    "avg_rmse = np.mean(rmses)\n",
    "print('rmses: ',rmses,'\\n','average rmse: ',avg_rmse)"
   ]
  }
 ],
 "metadata": {
  "kernelspec": {
   "display_name": "Python 3",
   "language": "python",
   "name": "python3"
  },
  "language_info": {
   "codemirror_mode": {
    "name": "ipython",
    "version": 3
   },
   "file_extension": ".py",
   "mimetype": "text/x-python",
   "name": "python",
   "nbconvert_exporter": "python",
   "pygments_lexer": "ipython3",
   "version": "3.7.3"
  }
 },
 "nbformat": 4,
 "nbformat_minor": 2
}
